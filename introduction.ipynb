{
 "cells": [
  {
   "cell_type": "markdown",
   "metadata": {
    "graffitiCellId": "id_dwjdx8h"
   },
   "source": [
    "# Recursion\n",
    "## Introduction\n",
    "\n",
    "Recursion is a technique for solving problems where the solution to a particular problem depends on the solution to a smaller instance of the same problem. \n",
    "\n",
    "Consider the problem of calculating $\\mathtt{2^5}$. Let's assume to calculate this, you need to do one multiplication after another. That's $2 * 2 * 2 * 2 * 2$. We know that $2^5 = 2 * 2^4$. If we know the value of $2^4$, we can easily calculate $2^5$.\n",
    "\n",
    "We can use recursion to solve this problem, since the solution to the original problem ($2^n$) depends on the solution to a smaller instance ($2^{n-1}$) of the same problem. The recursive solution is to calculate $2 * 2^{n-1}$ for all n that is greater than 0. If n is 0, return 1. We'll ignore all negative numbers.\n",
    "\n",
    "Let's look at what the recursive steps would be for calculating $2^5$.\n",
    "\n",
    "$2^5 = 2 * 2^4$\n",
    "\n",
    "$2^5 = 2 * 2 * 2^3$\n",
    "\n",
    "$2^5 = 2 * 2 * 2 * 2^2$\n",
    "\n",
    "$2^5 = 2 * 2 * 2 * 2 * 2^1$\n",
    "\n",
    "$2^5 = 2 * 2 * 2 * 2 * 2 * 2^0$\n",
    "\n",
    "$2^5 = 2 * 2 * 2 * 2 * 2 * 1$\n",
    "\n",
    "## Code\n",
    "Let's look at the recursive function `power_of_2`, which calculates $2^n$."
   ]
  },
  {
   "cell_type": "code",
   "execution_count": 3,
   "metadata": {
    "graffitiCellId": "id_szy5ni3"
   },
   "outputs": [
    {
     "name": "stdout",
     "output_type": "stream",
     "text": [
      "32\n"
     ]
    }
   ],
   "source": [
    "def power_of_2(n):\n",
    "    if n == 0:\n",
    "        return 1\n",
    "    \n",
    "    return 2 * power_of_2(n - 1)\n",
    "\n",
    "print(power_of_2(5))"
   ]
  },
  {
   "cell_type": "markdown",
   "metadata": {
    "graffitiCellId": "id_npqrqt3"
   },
   "source": [
    "As you can see, the function calls itself to calculate the smaller instance of the solution. Let's break down the `power_of_2` function, starting with the first two lines.\n",
    "```\n",
    "if n == 0:\n",
    "    return 1\n",
    "```\n",
    "These lines contain the base case. This is where you catch edge cases that don't fit the problem ($2 * 2^{n-1}$). Since we aren't considering any $n < 0$ valid, $2 * 2^{n-1}$ can't be used when $n$ is $0$. This section of the code returns the solution to $2^0$ without using $2 * 2^{n-1}$.\n",
    "```\n",
    "return 2 * power_of_2(n - 1)\n",
    "```\n",
    "This code is where it breaks the problem down into smaller instances. Using the formula $2^{n} = 2 * 2^{n-1}$, the `power_of_2` function calls itself to calculate $2^{n-1}$. To better understand what is happening, let's look at the call stack with an example."
   ]
  },
  {
   "cell_type": "markdown",
   "metadata": {
    "graffitiCellId": "id_g25qq7v"
   },
   "source": [
    "## Call Stack\n",
    "Let's follow the [call stack](https://en.wikipedia.org/wiki/Call_stack) when calling `power_of_2(5)`:\n",
    "\n",
    "First `power_of_2(5)` is called.\n",
    "\n",
    "Then `power_of_2(5)` calls `power_of_2(4)`\n",
    "\n",
    "Then `power_of_2(4)` calls `power_of_2(3)`\n",
    "\n",
    "...\n",
    "\n",
    "Then `power_of_2(1)` calls `power_of_2(0)`\n",
    "\n",
    "At this point, the call stack will look something like this:\n",
    "```\n",
    "  ...\n",
    "  File \"<ipython-input-27-9e8459c7465f>\", line 5, in power_of_2\n",
    "    return 2 * power_of_2(n - 1)\n",
    "  File \"<ipython-input-27-9e8459c7465f>\", line 5, in power_of_2\n",
    "    return 2 * power_of_2(n - 1)\n",
    "  File \"<ipython-input-27-9e8459c7465f>\", line 5, in power_of_2\n",
    "    return 2 * power_of_2(n - 1)\n",
    "  File \"<ipython-input-27-9e8459c7465f>\", line 5, in power_of_2\n",
    "    return 2 * power_of_2(n - 1)\n",
    "  File \"<ipython-input-27-9e8459c7465f>\", line 3, in power_of_2\n",
    "    return 1\n",
    "```\n",
    "Let's look at a cleaner view of the stack:\n",
    "```\n",
    "...\n",
    "    -> power_of_2(5)\n",
    "        -> power_of_2(4)\n",
    "            -> power_of_2(3)\n",
    "                -> power_of_2(2)\n",
    "                    -> power_of_2(1)\n",
    "                        -> power_of_2(0)\n",
    "```\n",
    "Each function is waiting on the function it called to complete. So, `power_of_2(5)` is waiting for `power_of_2(4)`, `power_of_2(4)` is waiting for `power_of_2(3)`, etc..\n",
    "\n",
    "The function `power_of_2(0)` will return $1$\n",
    "\n",
    "Using the 1 returned from `power_of_2(0)`, `power_of_2(1)` will return $2 * 1$\n",
    "\n",
    "Using the 2 returned from `power_of_2(1)`, `power_of_2(2)` will return $2 * 2$\n",
    "\n",
    "...\n",
    "\n",
    "\n",
    "Using the 16 returned from `power_of_2(4)`, `power_of_2(5)` will return $2 * 16$\n",
    "\n",
    "Finally, the result of $2^5$ is returned! $2^5 = 2 * 2^4 = 2 * 16 = 32$\n",
    "\n",
    "### Practice Problem\n",
    "Implement `sum_integers(n)` to  calculate the sum of all integers from $1$ to $n$ using recursion. For example, `sum_integers(3)` should return $6$ ($1 + 2 + 3$)."
   ]
  },
  {
   "cell_type": "code",
   "execution_count": 1,
   "metadata": {
    "graffitiCellId": "id_3937ww3"
   },
   "outputs": [
    {
     "name": "stdout",
     "output_type": "stream",
     "text": [
      "6\n"
     ]
    }
   ],
   "source": [
    "def sum_integers(n):\n",
    "    if n==1:\n",
    "        return 1\n",
    "    return n + sum_integers(n-1)\n",
    "print(sum_integers(3))"
   ]
  },
  {
   "cell_type": "markdown",
   "metadata": {
    "graffitiCellId": "id_xr7qwpm"
   },
   "source": [
    "<span class=\"graffiti-highlight graffiti-id_xr7qwpm-id_e4qown3\"><i></i><button>Hide Solution</button></span>"
   ]
  },
  {
   "cell_type": "code",
   "execution_count": null,
   "metadata": {
    "graffitiCellId": "id_e4qown3"
   },
   "outputs": [],
   "source": [
    "def sum_integers(n):\n",
    "    if n == 1:\n",
    "        return 1\n",
    "    \n",
    "    return n + sum_integers(n -1)\n",
    "\n",
    "print(sum_integers(3))"
   ]
  },
  {
   "cell_type": "markdown",
   "metadata": {
    "graffitiCellId": "id_i8ruo8b"
   },
   "source": [
    "## Gotchas\n",
    "When using recursion, there are a few things to look out for that you don't have to worry about when running a loop (iteratively). Let's go over a few of those items.\n",
    "\n",
    "### Call Stack\n",
    "We went over an example of the call stack when calling `power_of_2(5)` above. In this section, we'll cover the limitations of recursion on a call stack. Run the cell below to create a really large stack. It should raise the error `RecursionError: maximum recursion depth exceeded in comparison`."
   ]
  },
  {
   "cell_type": "code",
   "execution_count": 4,
   "metadata": {
    "graffitiCellId": "id_snmtgsf"
   },
   "outputs": [
    {
     "ename": "RecursionError",
     "evalue": "maximum recursion depth exceeded in comparison",
     "output_type": "error",
     "traceback": [
      "\u001b[0;31m---------------------------------------------------------------------------\u001b[0m",
      "\u001b[0;31mRecursionError\u001b[0m                            Traceback (most recent call last)",
      "\u001b[0;32m<ipython-input-4-d01ef5eaf227>\u001b[0m in \u001b[0;36m<module>\u001b[0;34m()\u001b[0m\n\u001b[0;32m----> 1\u001b[0;31m \u001b[0mprint\u001b[0m\u001b[0;34m(\u001b[0m\u001b[0mpower_of_2\u001b[0m\u001b[0;34m(\u001b[0m\u001b[0;36m10000\u001b[0m\u001b[0;34m)\u001b[0m\u001b[0;34m)\u001b[0m\u001b[0;34m\u001b[0m\u001b[0m\n\u001b[0m",
      "\u001b[0;32m<ipython-input-3-ea432f94a94a>\u001b[0m in \u001b[0;36mpower_of_2\u001b[0;34m(n)\u001b[0m\n\u001b[1;32m      3\u001b[0m         \u001b[0;32mreturn\u001b[0m \u001b[0;36m1\u001b[0m\u001b[0;34m\u001b[0m\u001b[0m\n\u001b[1;32m      4\u001b[0m \u001b[0;34m\u001b[0m\u001b[0m\n\u001b[0;32m----> 5\u001b[0;31m     \u001b[0;32mreturn\u001b[0m \u001b[0;36m2\u001b[0m \u001b[0;34m*\u001b[0m \u001b[0mpower_of_2\u001b[0m\u001b[0;34m(\u001b[0m\u001b[0mn\u001b[0m \u001b[0;34m-\u001b[0m \u001b[0;36m1\u001b[0m\u001b[0;34m)\u001b[0m\u001b[0;34m\u001b[0m\u001b[0m\n\u001b[0m\u001b[1;32m      6\u001b[0m \u001b[0;34m\u001b[0m\u001b[0m\n\u001b[1;32m      7\u001b[0m \u001b[0mprint\u001b[0m\u001b[0;34m(\u001b[0m\u001b[0mpower_of_2\u001b[0m\u001b[0;34m(\u001b[0m\u001b[0;36m5\u001b[0m\u001b[0;34m)\u001b[0m\u001b[0;34m)\u001b[0m\u001b[0;34m\u001b[0m\u001b[0m\n",
      "... last 1 frames repeated, from the frame below ...\n",
      "\u001b[0;32m<ipython-input-3-ea432f94a94a>\u001b[0m in \u001b[0;36mpower_of_2\u001b[0;34m(n)\u001b[0m\n\u001b[1;32m      3\u001b[0m         \u001b[0;32mreturn\u001b[0m \u001b[0;36m1\u001b[0m\u001b[0;34m\u001b[0m\u001b[0m\n\u001b[1;32m      4\u001b[0m \u001b[0;34m\u001b[0m\u001b[0m\n\u001b[0;32m----> 5\u001b[0;31m     \u001b[0;32mreturn\u001b[0m \u001b[0;36m2\u001b[0m \u001b[0;34m*\u001b[0m \u001b[0mpower_of_2\u001b[0m\u001b[0;34m(\u001b[0m\u001b[0mn\u001b[0m \u001b[0;34m-\u001b[0m \u001b[0;36m1\u001b[0m\u001b[0;34m)\u001b[0m\u001b[0;34m\u001b[0m\u001b[0m\n\u001b[0m\u001b[1;32m      6\u001b[0m \u001b[0;34m\u001b[0m\u001b[0m\n\u001b[1;32m      7\u001b[0m \u001b[0mprint\u001b[0m\u001b[0;34m(\u001b[0m\u001b[0mpower_of_2\u001b[0m\u001b[0;34m(\u001b[0m\u001b[0;36m5\u001b[0m\u001b[0;34m)\u001b[0m\u001b[0;34m)\u001b[0m\u001b[0;34m\u001b[0m\u001b[0m\n",
      "\u001b[0;31mRecursionError\u001b[0m: maximum recursion depth exceeded in comparison"
     ]
    }
   ],
   "source": [
    "print(power_of_2(10000))"
   ]
  },
  {
   "cell_type": "markdown",
   "metadata": {
    "graffitiCellId": "id_wlikaoq"
   },
   "source": [
    "Python has a limit on the depth of recursion to prevent a [stack overflow](https://en.wikipedia.org/wiki/Stack_overflow). However, some compilers will turn [tail-recursive functions](https://en.wikipedia.org/wiki/Recursion_(computer_science)#Tail-recursive_functions) into an iterative loop to prevent recursion from using up the stack. Since Python's compiler doesn't do this, you'll have to watch out for this limit.\n",
    "### Slicing\n",
    "Let's look at recursion on arrays and how you can run into the problem of slicing the array. If you haven't heard the term slicing, it's the operation of taking a subset of some data. For example, the list `a` can be sliced using the following operation: `a[start:stop]`. This will return a new list from index `start` (inclusive) to index `stop` (exclusive).\n",
    "\n",
    "Let's look at an example of a recursive function that takes the sum of all numbers in an array. For example, the array of `[5, 2, 9, 11]` would sum to 27 (5 + 2 + 9 + 11)."
   ]
  },
  {
   "cell_type": "code",
   "execution_count": 5,
   "metadata": {
    "graffitiCellId": "id_v9ovfz1"
   },
   "outputs": [
    {
     "name": "stdout",
     "output_type": "stream",
     "text": [
      "10\n"
     ]
    }
   ],
   "source": [
    "def sum_array(array):\n",
    "    # Base Case\n",
    "    if len(array) == 1:\n",
    "        return array[0]\n",
    "    \n",
    "    return array[0] + sum_array(array[1:])\n",
    "\n",
    "arr = [1, 2, 3, 4]\n",
    "print(sum_array(arr))"
   ]
  },
  {
   "cell_type": "markdown",
   "metadata": {
    "graffitiCellId": "id_54i7x5u"
   },
   "source": [
    "Looking at this, you might think it has a running time of O($n$), but that isn't correct due to the slice operation `array[1:]`. This operation will take O($k$) time to run where $k$ is the number of elements to copy. So, this function is actually O($k*n$) running time complexity and O($k*n$) space complexity.\n",
    "\n",
    "To visualize this, let's plot the time it takes to slice."
   ]
  },
  {
   "cell_type": "code",
   "execution_count": 6,
   "metadata": {
    "graffitiCellId": "id_ocuve8r"
   },
   "outputs": [
    {
     "data": {
      "text/plain": [
       "[]"
      ]
     },
     "execution_count": 6,
     "metadata": {},
     "output_type": "execute_result"
    },
    {
     "data": {
      "image/png": "[encoded data removed]",
      "text/plain": [
       "<matplotlib.figure.Figure at 0x7fbbf409bba8>"
      ]
     },
     "metadata": {
      "needs_background": "light"
     },
     "output_type": "display_data"
    }
   ],
   "source": [
    "import matplotlib.pyplot as plt\n",
    "import statistics\n",
    "import time\n",
    "%matplotlib inline\n",
    "\n",
    "n_steps = 10\n",
    "step_size = 1000000\n",
    "array_sizes = list(range(step_size, n_steps*step_size, step_size))\n",
    "big_array = list(range(n_steps*step_size))\n",
    "times = []\n",
    "\n",
    "# Calculate the time it takes for the slice function to run with different sizes of k\n",
    "for array_size in array_sizes:\n",
    "    start_time = time.time()\n",
    "    big_array[:array_size]\n",
    "    times.append(time.time() - start_time)\n",
    "\n",
    "# Graph the results\n",
    "plt.scatter(x=array_sizes, y=times)\n",
    "plt.ylim(top=max(times), bottom=min(times))\n",
    "plt.xlabel('Array Size')\n",
    "plt.ylabel('Time (seconds)')\n",
    "plt.plot()"
   ]
  },
  {
   "cell_type": "markdown",
   "metadata": {
    "graffitiCellId": "id_pvlssjf"
   },
   "source": [
    "As you can see, it's linear time to slice.\n",
    "\n",
    "Instead of slicing, we can pass the index for the element that we want to use for addition. That will give us the following function:"
   ]
  },
  {
   "cell_type": "code",
   "execution_count": 7,
   "metadata": {
    "graffitiCellId": "id_14u4wyj"
   },
   "outputs": [
    {
     "name": "stdout",
     "output_type": "stream",
     "text": [
      "10\n"
     ]
    }
   ],
   "source": [
    "def sum_array_index(array, index):\n",
    "    # Base Cases\n",
    "    if len(array) - 1 == index:\n",
    "        return array[index]\n",
    "    \n",
    "    return array[index] + sum_array_index(array, index + 1)\n",
    "\n",
    "arr = [1, 2, 3, 4]\n",
    "print(sum_array_index(arr, 0))"
   ]
  },
  {
   "cell_type": "markdown",
   "metadata": {
    "graffitiCellId": "id_cxz3ww6"
   },
   "source": [
    "That eliminates the need to do slicing. With the two different functions implemented, let's compare the running times."
   ]
  },
  {
   "cell_type": "code",
   "execution_count": 8,
   "metadata": {
    "graffitiCellId": "id_h6g7uc7"
   },
   "outputs": [
    {
     "data": {
      "text/plain": [
       "[]"
      ]
     },
     "execution_count": 8,
     "metadata": {},
     "output_type": "execute_result"
    },
    {
     "data": {
      "image/png": "[encoded data removed]",
      "text/plain": [
       "<matplotlib.figure.Figure at 0x7fbbd81baf98>"
      ]
     },
     "metadata": {
      "needs_background": "light"
     },
     "output_type": "display_data"
    }
   ],
   "source": [
    "import matplotlib.pyplot as plt\n",
    "import statistics\n",
    "import time\n",
    "\n",
    "n_steps = 10\n",
    "step_size = 200\n",
    "array_sizes = list(range(step_size, n_steps*step_size, step_size))\n",
    "big_array = list(range(n_steps*step_size))\n",
    "sum_array_times = []\n",
    "sum_array_index_times = []\n",
    "\n",
    "for array_size in array_sizes:\n",
    "    subset_array = big_array[:array_size]\n",
    "    \n",
    "    start_time = time.time()\n",
    "    sum_array(subset_array)\n",
    "    sum_array_times.append(time.time() - start_time)\n",
    "    \n",
    "    start_time = time.time()\n",
    "    sum_array_index(subset_array, 0)\n",
    "    sum_array_index_times.append(time.time() - start_time)\n",
    "    \n",
    "    \n",
    "plt.scatter(x=array_sizes, y=sum_array_times, label='sum_array')\n",
    "plt.scatter(x=array_sizes, y=sum_array_index_times, label='sum_array_index')\n",
    "plt.ylim(\n",
    "    top=max(sum_array_times + sum_array_index_times),\n",
    "    bottom=min(sum_array_times + sum_array_index_times))\n",
    "plt.legend()\n",
    "plt.xlabel('Array Size')\n",
    "plt.ylabel('Time (seconds)')\n",
    "plt.plot()"
   ]
  },
  {
   "cell_type": "markdown",
   "metadata": {
    "graffitiCellId": "id_wgssm9u"
   },
   "source": [
    "As you can see, the function `sum_array` is a polynomial and `sum_array_index` is linear as we predicted.\n",
    "\n",
    "However, in our pursuit to use recursion we actually made things worse. Let's look at an iterative solution to this problem:"
   ]
  },
  {
   "cell_type": "code",
   "execution_count": 9,
   "metadata": {
    "graffitiCellId": "id_z5yodhr"
   },
   "outputs": [
    {
     "name": "stdout",
     "output_type": "stream",
     "text": [
      "10\n"
     ]
    }
   ],
   "source": [
    "def sum_array_iter(array):\n",
    "    result = 0\n",
    "    \n",
    "    for x in array:\n",
    "        result += x\n",
    "    \n",
    "    return result\n",
    "\n",
    "arr = [1, 2, 3, 4]\n",
    "print(sum_array_iter(arr))"
   ]
  },
  {
   "cell_type": "markdown",
   "metadata": {
    "graffitiCellId": "id_ogosv6y"
   },
   "source": [
    "The `sum_array_iter` function is a lot more straightforward than the two recursive functions, which is important. Second, to help ensure an answer that is correct and bug free, you generally want to pick the solution that is more readable. In some cases recursion is more readable and in some cases iteration is more readable. As you gain experience reading other people’s code, you’ll get an intuition for code readability."
   ]
  }
 ],
 "metadata": {
  "graffiti": {
   "firstAuthorId": "9752003102",
   "id": "id_d1u5u65",
   "language": "EN"
  },
  "kernelspec": {
   "display_name": "Python 3",
   "language": "python",
   "name": "python3"
  },
  "language_info": {
   "codemirror_mode": {
    "name": "ipython",
    "version": 3
   },
   "file_extension": ".py",
   "mimetype": "text/x-python",
   "name": "python",
   "nbconvert_exporter": "python",
   "pygments_lexer": "ipython3",
   "version": "3.6.3"
  }
 },
 "nbformat": 4,
 "nbformat_minor": 2
}
